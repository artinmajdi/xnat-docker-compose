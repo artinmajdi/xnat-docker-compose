{
 "cells": [
  {
   "cell_type": "code",
   "execution_count": null,
   "metadata": {},
   "outputs": [],
   "source": [
    "import monai\n",
    "import pydicom\n",
    "import pathlib\n",
    "from glob import glob\n",
    "import matplotlib.pyplot as plt\n",
    "# import pyxnat\n",
    "import torch\n",
    "import xnat"
   ]
  },
  {
   "cell_type": "code",
   "execution_count": null,
   "metadata": {},
   "outputs": [],
   "source": []
  },
  {
   "attachments": {},
   "cell_type": "markdown",
   "metadata": {},
   "source": [
    "# Get the bundle name"
   ]
  },
  {
   "cell_type": "code",
   "execution_count": null,
   "metadata": {},
   "outputs": [],
   "source": [
    "bundles_list = monai.bundle.get_all_bundles_list()\n",
    "name, date = next((n, d) for n, d in bundles_list if 'lung' in n)"
   ]
  },
  {
   "attachments": {},
   "cell_type": "markdown",
   "metadata": {},
   "source": [
    "# Download the bundle\n",
    "```python\n",
    "python -m monai.bundle download --name spleen_ct_segmentation --bundle_dir \"./\"\n",
    "```"
   ]
  },
  {
   "cell_type": "code",
   "execution_count": null,
   "metadata": {},
   "outputs": [],
   "source": [
    "import pathlib\n",
    "bundle_dir = pathlib.Path('../../bundles').resolve()\n",
    "bundle_dir.mkdir(exist_ok=True)\n",
    "\n",
    "monai.bundle.download(name=name, bundle_dir=bundle_dir)"
   ]
  },
  {
   "cell_type": "code",
   "execution_count": null,
   "metadata": {},
   "outputs": [],
   "source": [
    "model_weights = monai.bundle.load(name=name, bundle_dir=bundle_dir)"
   ]
  },
  {
   "cell_type": "code",
   "execution_count": null,
   "metadata": {},
   "outputs": [],
   "source": [
    "# use pretrained Lung Nodule model in monai package\n",
    "\n",
    "from monai.apps.utils import download_and_extract\n",
    "from monai.networks.nets.densenet import DenseNet121\n",
    "\n",
    "\n",
    "monai.apps.detection()\n",
    "\n",
    "# model = DenseNet121(spatial_dims=3, in_channels=1, out_channels=3)\n",
    "# model.load_state_dict(torch.load(\"/path/to/downloaded/model/model.pt\"))"
   ]
  },
  {
   "cell_type": "code",
   "execution_count": null,
   "metadata": {},
   "outputs": [],
   "source": [
    "import monai\n",
    "from monai.networks.nets.densenet import DenseNet121\n",
    "\n",
    "model_name = \"lung_nodule_detection_3d_ct\"\n",
    "model_hash = \"fb8dbe001f55a03ed0d2c9d5b31dde8782f79669\"\n",
    "\n",
    "model = DenseNet121(\n",
    "    pretrained=True,\n",
    "    progress=True,\n",
    "    model_name=model_name,\n",
    "    model_hash=model_hash\n",
    ")"
   ]
  },
  {
   "attachments": {},
   "cell_type": "markdown",
   "metadata": {
    "notebookRunGroups": {
     "groupValue": "2"
    }
   },
   "source": [
    "# Connecting to XNAT's REST API "
   ]
  },
  {
   "cell_type": "code",
   "execution_count": null,
   "metadata": {},
   "outputs": [],
   "source": [
    "mode = 'local_machine'\n",
    "server_dict = dict(local_machine='http://localhost:80' , inside_xnat='http://xnat-web:8080')\n",
    "interface = pyxnat.Interface(server=server_dict[mode], user='admin', password='admin')"
   ]
  },
  {
   "attachments": {},
   "cell_type": "markdown",
   "metadata": {},
   "source": [
    "# Level 1. Project"
   ]
  },
  {
   "cell_type": "code",
   "execution_count": null,
   "metadata": {},
   "outputs": [],
   "source": [
    "print('list of projects:', interface.select.projects().get())"
   ]
  },
  {
   "cell_type": "code",
   "execution_count": null,
   "metadata": {},
   "outputs": [],
   "source": [
    "project_ID = 'demo1'\n",
    "project = interface.select.project(project_ID)\n",
    "\n",
    "\n",
    "print('list of users:', project.users())\n",
    "print('list of subjects:', project.subjects().get())\n",
    "print('list of experiments:', project.experiments().get())\n",
    "print('list of resources:', project.resources().get())"
   ]
  },
  {
   "attachments": {},
   "cell_type": "markdown",
   "metadata": {},
   "source": [
    "# Level 2. Subject"
   ]
  },
  {
   "cell_type": "code",
   "execution_count": null,
   "metadata": {},
   "outputs": [],
   "source": [
    "ix = 0\n",
    "subject_ID = project.subjects().get()[ix]\n",
    "print('subject_ID:', subject_ID)\n",
    "\n",
    "subject = project.subject(subject_ID)\n",
    "subject"
   ]
  },
  {
   "attachments": {},
   "cell_type": "markdown",
   "metadata": {},
   "source": [
    "# Level 3. Experiments"
   ]
  },
  {
   "attachments": {},
   "cell_type": "markdown",
   "metadata": {},
   "source": [
    "### Setting the experiment"
   ]
  },
  {
   "cell_type": "code",
   "execution_count": null,
   "metadata": {},
   "outputs": [],
   "source": [
    "experiment_ID = project.experiments().get()[ix]\n",
    "print('experiment_ID:', experiment_ID)\n",
    "\n",
    "experiment = subject.experiment(experiment_ID)\n",
    "experiment"
   ]
  },
  {
   "attachments": {},
   "cell_type": "markdown",
   "metadata": {},
   "source": [
    "### Creating a new experiment"
   ]
  },
  {
   "cell_type": "code",
   "execution_count": null,
   "metadata": {},
   "outputs": [],
   "source": [
    "# experiment.create(experiments='xnat:ctSessionData')\n",
    "\n",
    "# experiment.attrs.mset({\n",
    "#     'xnat:mrSessionData/coil' : 'head',\n",
    "#     'xnat:mrSessionData/marker' : 'right',\n",
    "# })"
   ]
  },
  {
   "attachments": {},
   "cell_type": "markdown",
   "metadata": {},
   "source": [
    "# Level 4. Scans"
   ]
  },
  {
   "attachments": {},
   "cell_type": "markdown",
   "metadata": {},
   "source": [
    "### List of scans in the experiment"
   ]
  },
  {
   "cell_type": "code",
   "execution_count": null,
   "metadata": {},
   "outputs": [],
   "source": [
    "print('scans:', experiment.scans().get() )"
   ]
  },
  {
   "cell_type": "code",
   "execution_count": null,
   "metadata": {},
   "outputs": [],
   "source": [
    "i_s = 0\n",
    "scan_ID = experiment.scans().get()[i_s]\n",
    "print('scan_ID:', scan_ID)\n",
    "\n",
    "scan = experiment.scan(scan_ID)\n",
    "scan"
   ]
  },
  {
   "cell_type": "code",
   "execution_count": null,
   "metadata": {},
   "outputs": [],
   "source": [
    "scan.children()"
   ]
  },
  {
   "cell_type": "code",
   "execution_count": null,
   "metadata": {},
   "outputs": [],
   "source": [
    "# # List all resources for the scan\n",
    "# for resource in scan.resources().fetchall():\n",
    "#     print(resource)\n",
    "#     # print(resource.id(), resource.label(), resource.datatype())\n",
    "\n",
    "# scan.resource('9').get()"
   ]
  },
  {
   "attachments": {},
   "cell_type": "markdown",
   "metadata": {},
   "source": [
    "### Creating a New Scan"
   ]
  },
  {
   "cell_type": "code",
   "execution_count": null,
   "metadata": {},
   "outputs": [],
   "source": [
    "# scan.create(scans='xnat:ctScanData')\n",
    "\n",
    "# # Setting scan attributes\n",
    "# scan.attrs.mset({\n",
    "#     'xnat:ctScanData/parameters/imageType' : 'dicom',\n",
    "#     'xnat:ctScanData/series_description': 'something'\n",
    "# })\n",
    "\n",
    "# Adding DICOM files to a scan\n",
    "# dicom_resource = scan.resource('DICOM')\n",
    "# dicom_resource.put_dir()"
   ]
  },
  {
   "attachments": {},
   "cell_type": "markdown",
   "metadata": {},
   "source": [
    "# Level 5. Resources"
   ]
  },
  {
   "cell_type": "code",
   "execution_count": null,
   "metadata": {},
   "outputs": [],
   "source": [
    "resource = scan.resource('DICOM')"
   ]
  },
  {
   "cell_type": "code",
   "execution_count": null,
   "metadata": {},
   "outputs": [],
   "source": [
    "files =  resource.files()\n",
    "attributes = files[0].attributes()\n",
    "attributes"
   ]
  },
  {
   "cell_type": "code",
   "execution_count": null,
   "metadata": {},
   "outputs": [],
   "source": [
    "URI = pathlib.Path(attributes['URI'])\n",
    "URI"
   ]
  },
  {
   "cell_type": "code",
   "execution_count": null,
   "metadata": {},
   "outputs": [],
   "source": [
    "# content = interface.get(uri=URI).content.decode()\n",
    "# content"
   ]
  },
  {
   "cell_type": "code",
   "execution_count": null,
   "metadata": {},
   "outputs": [],
   "source": [
    "# subject_id = 'your-subject-id'\n",
    "# session_id = 'your-session-id'\n",
    "# dicom_files = xnat.select('/projects/your-project-id/subjects/{}/experiments/{}/scans/*/resources/DICOM/files'.format(subject_id, session_id))"
   ]
  },
  {
   "cell_type": "code",
   "execution_count": null,
   "metadata": {},
   "outputs": [],
   "source": [
    "# Downloading the whole resource (consists of multiple dicom files in the scan)\n",
    "local_machine_dir = pathlib.Path('.')\n",
    "path_list = resource.get(dest_dir=local_machine_dir, extract=True)\n",
    "path_list[:5]"
   ]
  },
  {
   "attachments": {},
   "cell_type": "markdown",
   "metadata": {
    "notebookRunGroups": {
     "groupValue": "1"
    }
   },
   "source": [
    "# Visualization"
   ]
  },
  {
   "cell_type": "code",
   "execution_count": null,
   "metadata": {},
   "outputs": [],
   "source": [
    "!pip install GDCM pylibjpeg pylibjpeg-libjpeg"
   ]
  },
  {
   "cell_type": "code",
   "execution_count": null,
   "metadata": {},
   "outputs": [],
   "source": [
    "path = path_list[0]\n",
    "dcm_file = pydicom.dcmread(path)\n",
    "dcm_file.pixel_array"
   ]
  },
  {
   "attachments": {},
   "cell_type": "markdown",
   "metadata": {},
   "source": [
    "# Visualize the dicom image"
   ]
  },
  {
   "cell_type": "code",
   "execution_count": null,
   "metadata": {},
   "outputs": [],
   "source": [
    "fig = plt.figure()\n",
    "plt.imshow(dcm_file.pixel_array, cmap=plt.cm.bone)"
   ]
  },
  {
   "attachments": {},
   "cell_type": "markdown",
   "metadata": {},
   "source": [
    "## Applying transformations using monai library"
   ]
  },
  {
   "cell_type": "code",
   "execution_count": null,
   "metadata": {},
   "outputs": [],
   "source": [
    "im = dcm_file.pixel_array \n",
    "\n",
    "from monai.transforms import AdjustContrast\n",
    "adjuster = AdjustContrast(.02)\n",
    "im2 = adjuster(im)\n",
    "# plt.imshow(im2, cmap=plt.cm.bone)"
   ]
  },
  {
   "cell_type": "code",
   "execution_count": null,
   "metadata": {},
   "outputs": [],
   "source": [
    "dataset = pydicom.Dataset(pixel_array=im2) \n",
    "dcm_file.update(dataset)\n",
    "plt.imshow(dcm_file.pixel_array, cmap=plt.cm.bone)"
   ]
  },
  {
   "cell_type": "code",
   "execution_count": null,
   "metadata": {},
   "outputs": [],
   "source": [
    "new_name = URI.stem + '_adjusted' + URI.suffix\n",
    "print('new_name' , new_name)\n",
    "\n",
    "out_dir = local_machine_dir.joinpath(new_name)\n",
    "print('out_dir',out_dir)\n",
    "\n",
    "pydicom.dcmwrite(out_dir, dcm_file)\n",
    "\n",
    "list(local_machine_dir.glob('*.dcm'))"
   ]
  },
  {
   "cell_type": "code",
   "execution_count": null,
   "metadata": {},
   "outputs": [],
   "source": []
  },
  {
   "cell_type": "code",
   "execution_count": null,
   "metadata": {},
   "outputs": [],
   "source": [
    "resource = interface.select.project(project_ID).subject(subject_ID).experiment(experiment_ID).scan(scan_ID).resource('DICOM')\n",
    "# file1 = resource.file(URI.name)\n",
    "# file1.get('temp.dcm')\n",
    "\n",
    "resource.file(ID=new_name).insert(out_dir)\n",
    "# resource.file(ID=new_name).put(out_dir)"
   ]
  },
  {
   "cell_type": "code",
   "execution_count": null,
   "metadata": {},
   "outputs": [],
   "source": [
    "# interface.select.project(project_ID).subject(subject_ID).experiment(experiment_ID).resource('DICOM').files"
   ]
  },
  {
   "cell_type": "code",
   "execution_count": null,
   "metadata": {},
   "outputs": [],
   "source": [
    "resource.get(dest_dir=local_machine_dir, extract=True)"
   ]
  },
  {
   "cell_type": "code",
   "execution_count": null,
   "metadata": {},
   "outputs": [],
   "source": []
  }
 ],
 "metadata": {
  "kernelspec": {
   "display_name": "Python 3 (ipykernel)",
   "language": "python",
   "name": "python3"
  },
  "language_info": {
   "codemirror_mode": {
    "name": "ipython",
    "version": 3
   },
   "file_extension": ".py",
   "mimetype": "text/x-python",
   "name": "python",
   "nbconvert_exporter": "python",
   "pygments_lexer": "ipython3",
   "version": "3.11.0"
  }
 },
 "nbformat": 4,
 "nbformat_minor": 4
}
